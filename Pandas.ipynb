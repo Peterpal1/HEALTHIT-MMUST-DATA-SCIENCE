{
  "cells": [
    {
      "cell_type": "markdown",
      "metadata": {
        "colab_type": "text",
        "id": "view-in-github"
      },
      "source": [
        "<a href=\"https://colab.research.google.com/github/Nicah23/HEALTHIT-MMUST-DATA-SCIENCE/blob/main/Pandas.ipynb\" target=\"_parent\"><img src=\"https://colab.research.google.com/assets/colab-badge.svg\" alt=\"Open In Colab\"/></a>"
      ]
    },
    {
      "cell_type": "code",
      "execution_count": 1,
      "metadata": {
        "id": "bJGqjS1uJ-Y8"
      },
      "outputs": [],
      "source": [
        "# importing pandas library\n",
        "import pandas as pd\n"
      ]
    },
    {
      "cell_type": "code",
      "execution_count": null,
      "metadata": {
        "colab": {
          "base_uri": "https://localhost:8080/"
        },
        "id": "2X4sILXHLSjh",
        "outputId": "db0b86e3-2198-46ac-d9c9-618ce9e7d399"
      },
      "outputs": [],
      "source": [
        "# rEad the data frpm the csv\n",
        "data=pd.read_csv('/content/academic.csv')\n",
        "print(data)"
      ]
    },
    {
      "cell_type": "code",
      "execution_count": null,
      "metadata": {
        "colab": {
          "base_uri": "https://localhost:8080/"
        },
        "id": "CSpChoqONNoL",
        "outputId": "d1c4a17f-c329-49c7-d8f3-28135abe6e15"
      },
      "outputs": [
        {
          "name": "stdout",
          "output_type": "stream",
          "text": [
            "       year  students  us_students  undergraduate  graduate  non_degree  \\\n",
            "31  1979/80    286343   11570000.0       172520.0   94130.0     16850.0   \n",
            "32  1980/81    311882   12097000.0       186660.0   99110.0     21660.0   \n",
            "33  1981/82    326299   12372000.0       195150.0  106290.0     21980.0   \n",
            "34  1982/83    336985   12426000.0       202760.0  110270.0     20340.0   \n",
            "35  1983/84    338894   12465000.0       197480.0  118820.0     19190.0   \n",
            "36  1984/85    342113   12242000.0       197640.0  122590.0     17570.0   \n",
            "37  1985/86    343777   12247000.0       187660.0  132430.0     19540.0   \n",
            "38  1986/87    349609   12504000.0       181230.0  146100.0     17550.0   \n",
            "39  1987/88    356187   12767000.0       176669.0  156366.0     18352.0   \n",
            "40  1988/89    366354   13055000.0       172551.0  165590.0     21189.0   \n",
            "41  1989/90    386851   13539000.0       184527.0  169827.0     24785.0   \n",
            "42  1990/91    407529   13819000.0       189900.0  182130.0     26730.0   \n",
            "43  1991/92    419585   14359000.0       197070.0  191330.0     22960.0   \n",
            "44  1992/93    438618   14487000.0       210080.0  193330.0     24200.0   \n",
            "45  1993/94    449749   14305000.0       213610.0  201030.0     23680.0   \n",
            "46  1994/95    452635   14279000.0       221500.0  191738.0     26188.0   \n",
            "47  1995/96    453787   14262000.0       218620.0  190092.0     29625.0   \n",
            "48  1996/97    457984   14368000.0       218743.0  190244.0     30872.0   \n",
            "49  1997/98    481280   14502000.0       223276.0  207510.0     33912.0   \n",
            "50  1998/99    490933   14507000.0       235802.0  211426.0     26863.0   \n",
            "51  1999/00    514723   14791000.0       237211.0  218219.0     34436.0   \n",
            "52  2000/01    547867   15312000.0       254429.0  238497.0     33883.0   \n",
            "53  2001/02    582996   15928000.0       261079.0  264749.0     34423.0   \n",
            "54  2002/03    586323   16612000.0       260103.0  267876.0     30551.0   \n",
            "55  2003/04    572509   16911000.0       248200.0  274310.0     20659.0   \n",
            "56  2004/05    565039   17272000.0       239212.0  264410.0     28418.0   \n",
            "57  2005/06    564766   17487000.0       236342.0  259717.0     30611.0   \n",
            "58  2006/07    582984   17672000.0       238050.0  264288.0     38986.0   \n",
            "59  2007/08    623805   18248000.0       243360.0  276842.0     46837.0   \n",
            "60  2008/09    671616   19103000.0       269874.0  283329.0     51812.0   \n",
            "61  2009/10    690923   20428000.0       274431.0  293885.0     54803.0   \n",
            "62  2010/11    723277   20550000.0       291439.0  296574.0     59233.0   \n",
            "63  2011/12    764495   20625000.0       309342.0  300430.0     69566.0   \n",
            "64  2012/13    819644   21253000.0       339993.0  311204.0     73528.0   \n",
            "65  2013/14    886052   21216000.0       370724.0  329854.0     79477.0   \n",
            "66  2014/15    974926   20300000.0       398824.0  362228.0     93587.0   \n",
            "67  2015/16   1043839   20264000.0       427313.0  383935.0     85093.0   \n",
            "68  2016/17   1078822   20185000.0       439019.0  391124.0     72984.0   \n",
            "69  2017/18   1094792   19831000.0       442746.0  382953.0     65631.0   \n",
            "70  2018/19   1095299   19828000.0       431930.0  377943.0     62341.0   \n",
            "71  2019/20   1075496   19720000.0       419321.0  374435.0     58201.0   \n",
            "72  2020/21    914095   19744000.0       359787.0  329272.0     21151.0   \n",
            "73  2021/22    948519   20327000.0       344532.0  385097.0     34131.0   \n",
            "74  2022/23   1057188   18961280.0       347602.0  467027.0     43766.0   \n",
            "\n",
            "         opt  \n",
            "31    2840.0  \n",
            "32    3450.0  \n",
            "33    2880.0  \n",
            "34    3620.0  \n",
            "35    3400.0  \n",
            "36    4310.0  \n",
            "37    4150.0  \n",
            "38    4730.0  \n",
            "39    4800.0  \n",
            "40    7020.0  \n",
            "41    7712.0  \n",
            "42    8770.0  \n",
            "43    8230.0  \n",
            "44   11010.0  \n",
            "45   11430.0  \n",
            "46   13209.0  \n",
            "47   15450.0  \n",
            "48   18125.0  \n",
            "49   16582.0  \n",
            "50   16842.0  \n",
            "51   24857.0  \n",
            "52   21058.0  \n",
            "53   22745.0  \n",
            "54   27793.0  \n",
            "55   29340.0  \n",
            "56   32999.0  \n",
            "57   38096.0  \n",
            "58   41660.0  \n",
            "59   56766.0  \n",
            "60   66601.0  \n",
            "61   67804.0  \n",
            "62   76031.0  \n",
            "63   85157.0  \n",
            "64   94919.0  \n",
            "65  105997.0  \n",
            "66  120287.0  \n",
            "67  147498.0  \n",
            "68  175695.0  \n",
            "69  203462.0  \n",
            "70  223085.0  \n",
            "71  223539.0  \n",
            "72  203885.0  \n",
            "73  184759.0  \n",
            "74  198793.0  \n"
          ]
        }
      ],
      "source": [
        "data1 = data.dropna()\n",
        "print(data1)"
      ]
    },
    {
      "cell_type": "code",
      "execution_count": null,
      "metadata": {
        "colab": {
          "base_uri": "https://localhost:8080/"
        },
        "id": "uVNTYnxJLlZS",
        "outputId": "47f5d03f-335a-4698-93ae-8984443d0b24"
      },
      "outputs": [
        {
          "name": "stdout",
          "output_type": "stream",
          "text": [
            "          year       origin_region                           origin  \\\n",
            "0      2000/01  Africa, Subsaharan  Africa, Subsaharan, Unspecified   \n",
            "1      2000/01  Africa, Subsaharan  Africa, Subsaharan, Unspecified   \n",
            "2      2000/01  Africa, Subsaharan  Africa, Subsaharan, Unspecified   \n",
            "3      2000/01                Asia                Asia, Unspecified   \n",
            "4      2000/01                Asia                Asia, Unspecified   \n",
            "...        ...                 ...                              ...   \n",
            "20406  2022/23         West Africa                             Togo   \n",
            "20407  2022/23         West Africa         West Africa, Unspecified   \n",
            "20408  2022/23         West Africa         West Africa, Unspecified   \n",
            "20409  2022/23         West Africa         West Africa, Unspecified   \n",
            "20410  2022/23         West Africa         West Africa, Unspecified   \n",
            "\n",
            "       academic_type  students  \n",
            "0           Graduate         2  \n",
            "1              Other         0  \n",
            "2      Undergraduate         6  \n",
            "3           Graduate         0  \n",
            "4              Other         6  \n",
            "...              ...       ...  \n",
            "20406  Undergraduate        95  \n",
            "20407       Graduate         0  \n",
            "20408     Non-Degree         0  \n",
            "20409            OPT         0  \n",
            "20410  Undergraduate         0  \n",
            "\n",
            "[20411 rows x 5 columns]\n"
          ]
        }
      ],
      "source": [
        "# read the data frpm the csv\n",
        "data=pd.read_csv('/origin.csv')\n",
        "print(data)"
      ]
    },
    {
      "cell_type": "code",
      "execution_count": null,
      "metadata": {
        "colab": {
          "base_uri": "https://localhost:8080/"
        },
        "id": "eymDSNssysoN",
        "outputId": "c615d0ab-2093-44ab-d38a-75cb7e022a44"
      },
      "outputs": [
        {
          "name": "stdout",
          "output_type": "stream",
          "text": [
            "          year       origin_region                           origin  \\\n",
            "0      2000/01  Africa, Subsaharan  Africa, Subsaharan, Unspecified   \n",
            "1      2000/01  Africa, Subsaharan  Africa, Subsaharan, Unspecified   \n",
            "2      2000/01  Africa, Subsaharan  Africa, Subsaharan, Unspecified   \n",
            "3      2000/01                Asia                Asia, Unspecified   \n",
            "4      2000/01                Asia                Asia, Unspecified   \n",
            "...        ...                 ...                              ...   \n",
            "20406  2022/23         West Africa                             Togo   \n",
            "20407  2022/23         West Africa         West Africa, Unspecified   \n",
            "20408  2022/23         West Africa         West Africa, Unspecified   \n",
            "20409  2022/23         West Africa         West Africa, Unspecified   \n",
            "20410  2022/23         West Africa         West Africa, Unspecified   \n",
            "\n",
            "       academic_type  students  \n",
            "0           Graduate         2  \n",
            "1              Other         0  \n",
            "2      Undergraduate         6  \n",
            "3           Graduate         0  \n",
            "4              Other         6  \n",
            "...              ...       ...  \n",
            "20406  Undergraduate        95  \n",
            "20407       Graduate         0  \n",
            "20408     Non-Degree         0  \n",
            "20409            OPT         0  \n",
            "20410  Undergraduate         0  \n",
            "\n",
            "[20411 rows x 5 columns]\n"
          ]
        }
      ],
      "source": [
        "# read the data from the csv\n",
        "data = pd.read_csv('/origin.csv')\n",
        "\n",
        "# print the data\n",
        "print(data)"
      ]
    },
    {
      "cell_type": "code",
      "execution_count": null,
      "metadata": {
        "id": "VB6Mx50SxzR3"
      },
      "outputs": [],
      "source": [
        "# drop the origin column with the unspecified value\n",
        "data= data.dropna(subset=['origin'])\n"
      ]
    },
    {
      "cell_type": "code",
      "execution_count": null,
      "metadata": {
        "colab": {
          "base_uri": "https://localhost:8080/"
        },
        "id": "JyFReUBQyGD2",
        "outputId": "831bde18-448c-49f3-8df5-a681f0af84a3"
      },
      "outputs": [
        {
          "name": "stdout",
          "output_type": "stream",
          "text": [
            "          year       origin_region                           origin  \\\n",
            "0      2000/01  Africa, Subsaharan  Africa, Subsaharan, Unspecified   \n",
            "1      2000/01  Africa, Subsaharan  Africa, Subsaharan, Unspecified   \n",
            "2      2000/01  Africa, Subsaharan  Africa, Subsaharan, Unspecified   \n",
            "3      2000/01                Asia                Asia, Unspecified   \n",
            "4      2000/01                Asia                Asia, Unspecified   \n",
            "...        ...                 ...                              ...   \n",
            "20406  2022/23         West Africa                             Togo   \n",
            "20407  2022/23         West Africa         West Africa, Unspecified   \n",
            "20408  2022/23         West Africa         West Africa, Unspecified   \n",
            "20409  2022/23         West Africa         West Africa, Unspecified   \n",
            "20410  2022/23         West Africa         West Africa, Unspecified   \n",
            "\n",
            "       academic_type  students  \n",
            "0           Graduate         2  \n",
            "1              Other         0  \n",
            "2      Undergraduate         6  \n",
            "3           Graduate         0  \n",
            "4              Other         6  \n",
            "...              ...       ...  \n",
            "20406  Undergraduate        95  \n",
            "20407       Graduate         0  \n",
            "20408     Non-Degree         0  \n",
            "20409            OPT         0  \n",
            "20410  Undergraduate         0  \n",
            "\n",
            "[20411 rows x 5 columns]\n"
          ]
        }
      ],
      "source": [
        "print (data)"
      ]
    },
    {
      "cell_type": "code",
      "execution_count": null,
      "metadata": {
        "id": "UyOB2aC0tft-"
      },
      "outputs": [],
      "source": []
    },
    {
      "cell_type": "code",
      "execution_count": null,
      "metadata": {
        "colab": {
          "base_uri": "https://localhost:8080/"
        },
        "id": "aomMo-oBn4jJ",
        "outputId": "cfc2d2f2-af98-47d9-a95b-54b55d6646fa"
      },
      "outputs": [
        {
          "name": "stdout",
          "output_type": "stream",
          "text": [
            "         year                 field_of_study  \\\n",
            "0     1998/99                    Agriculture   \n",
            "1     1998/99                    Agriculture   \n",
            "2     1998/99        Business and Management   \n",
            "3     1998/99  Communications and Journalism   \n",
            "4     1998/99  Communications and Journalism   \n",
            "...       ...                            ...   \n",
            "1070  2022/23                Social Sciences   \n",
            "1071  2022/23                Social Sciences   \n",
            "1072  2022/23                Social Sciences   \n",
            "1073  2022/23                Social Sciences   \n",
            "1074  2022/23                     Undeclared   \n",
            "\n",
            "                                                  major  students  \n",
            "0                                           Agriculture    6146.0  \n",
            "1                    Natural Resources and Conservation    1803.0  \n",
            "2                               Business and Management  101360.0  \n",
            "3                             Communication, Journalism    9473.0  \n",
            "4               Communications Technologies/Technicians    1761.0  \n",
            "...                                                 ...       ...  \n",
            "1070                                            History    2551.0  \n",
            "1071                                         Psychology   18474.0  \n",
            "1072  Public Administration and Social Service Profe...    8483.0  \n",
            "1073                                    Social Sciences   53998.0  \n",
            "1074                                         Undeclared   17910.0  \n",
            "\n",
            "[1075 rows x 4 columns]\n"
          ]
        }
      ],
      "source": [
        "# read the data frpm the csv\n",
        "study=pd.read_csv('/field_of_study.csv')\n",
        "print(study)"
      ]
    },
    {
      "cell_type": "code",
      "execution_count": null,
      "metadata": {
        "colab": {
          "base_uri": "https://localhost:8080/"
        },
        "id": "y-IaghJJpsvK",
        "outputId": "b80fd3e3-7289-4f47-b97d-ae8ce054504a"
      },
      "outputs": [
        {
          "name": "stdout",
          "output_type": "stream",
          "text": [
            "Duplicate Rows in study DataFrame:\n",
            "Empty DataFrame\n",
            "Columns: [year, field_of_study, major, students]\n",
            "Index: []\n"
          ]
        }
      ],
      "source": [
        "# Check for duplicates in study DataFrame\n",
        "duplicates_study = study[study.duplicated()]\n",
        "print(\"Duplicate Rows in study DataFrame:\")\n",
        "print(duplicates_study)"
      ]
    },
    {
      "cell_type": "code",
      "execution_count": null,
      "metadata": {
        "colab": {
          "base_uri": "https://localhost:8080/"
        },
        "id": "pCyjDSRPp7DG",
        "outputId": "e60fffde-4726-4993-e085-44b2630c7810"
      },
      "outputs": [
        {
          "name": "stdout",
          "output_type": "stream",
          "text": [
            "Missing Values in study DataFrame:\n",
            "year               0\n",
            "field_of_study     0\n",
            "major              0\n",
            "students          38\n",
            "dtype: int64\n"
          ]
        }
      ],
      "source": [
        "# Check for missing values in study DataFrame\n",
        "missing_values_study = study.isnull().sum()\n",
        "print(\"Missing Values in study DataFrame:\")\n",
        "print(missing_values_study)"
      ]
    },
    {
      "cell_type": "code",
      "execution_count": null,
      "metadata": {
        "colab": {
          "base_uri": "https://localhost:8080/"
        },
        "id": "_DXTjxaMqUl4",
        "outputId": "aa049464-6a5e-480f-e38b-0a6452b3dc3b"
      },
      "outputs": [
        {
          "name": "stdout",
          "output_type": "stream",
          "text": [
            "         year                 field_of_study  \\\n",
            "0     1998/99                    Agriculture   \n",
            "1     1998/99                    Agriculture   \n",
            "2     1998/99        Business and Management   \n",
            "3     1998/99  Communications and Journalism   \n",
            "4     1998/99  Communications and Journalism   \n",
            "...       ...                            ...   \n",
            "1070  2022/23                Social Sciences   \n",
            "1071  2022/23                Social Sciences   \n",
            "1072  2022/23                Social Sciences   \n",
            "1073  2022/23                Social Sciences   \n",
            "1074  2022/23                     Undeclared   \n",
            "\n",
            "                                                  major  students  \n",
            "0                                           Agriculture    6146.0  \n",
            "1                    Natural Resources and Conservation    1803.0  \n",
            "2                               Business and Management  101360.0  \n",
            "3                             Communication, Journalism    9473.0  \n",
            "4               Communications Technologies/Technicians    1761.0  \n",
            "...                                                 ...       ...  \n",
            "1070                                            History    2551.0  \n",
            "1071                                         Psychology   18474.0  \n",
            "1072  Public Administration and Social Service Profe...    8483.0  \n",
            "1073                                    Social Sciences   53998.0  \n",
            "1074                                         Undeclared   17910.0  \n",
            "\n",
            "[1037 rows x 4 columns]\n"
          ]
        }
      ],
      "source": [
        "# Drop rows with missing values in the 'students' column\n",
        "study_cleaned = study.dropna(subset=['students'])\n",
        "\n",
        "# Display the cleaned DataFrame\n",
        "print(study_cleaned)"
      ]
    },
    {
      "cell_type": "code",
      "execution_count": null,
      "metadata": {
        "colab": {
          "base_uri": "https://localhost:8080/"
        },
        "id": "lKR640EhqYWZ",
        "outputId": "579f4189-c18f-4d77-9739-4159503a6dc1"
      },
      "outputs": [
        {
          "name": "stdout",
          "output_type": "stream",
          "text": [
            "         year                 field_of_study  \\\n",
            "0     1998/99                    Agriculture   \n",
            "1     1998/99                    Agriculture   \n",
            "2     1998/99        Business and Management   \n",
            "3     1998/99  Communications and Journalism   \n",
            "4     1998/99  Communications and Journalism   \n",
            "...       ...                            ...   \n",
            "1070  2022/23                Social Sciences   \n",
            "1071  2022/23                Social Sciences   \n",
            "1072  2022/23                Social Sciences   \n",
            "1073  2022/23                Social Sciences   \n",
            "1074  2022/23                     Undeclared   \n",
            "\n",
            "                                                  major  students  \n",
            "0                                           Agriculture    6146.0  \n",
            "1                    Natural Resources and Conservation    1803.0  \n",
            "2                               Business and Management  101360.0  \n",
            "3                             Communication, Journalism    9473.0  \n",
            "4               Communications Technologies/Technicians    1761.0  \n",
            "...                                                 ...       ...  \n",
            "1070                                            History    2551.0  \n",
            "1071                                         Psychology   18474.0  \n",
            "1072  Public Administration and Social Service Profe...    8483.0  \n",
            "1073                                    Social Sciences   53998.0  \n",
            "1074                                         Undeclared   17910.0  \n",
            "\n",
            "[1075 rows x 4 columns]\n"
          ]
        }
      ],
      "source": [
        "# Fill missing values in the 'students' column with the mean value\n",
        "mean_students = study['students'].mean()\n",
        "study['students'] = study['students'].fillna(mean_students)\n",
        "\n",
        "# Display the DataFrame after filling missing values\n",
        "print(study)\n"
      ]
    },
    {
      "cell_type": "code",
      "execution_count": null,
      "metadata": {
        "colab": {
          "base_uri": "https://localhost:8080/"
        },
        "id": "BJKNJXD1qhHo",
        "outputId": "4db3a932-b82b-4c5e-f29e-b13766fdafa9"
      },
      "outputs": [
        {
          "name": "stdout",
          "output_type": "stream",
          "text": [
            "Data Types in study DataFrame:\n",
            "year               object\n",
            "field_of_study     object\n",
            "major              object\n",
            "students          float64\n",
            "dtype: object\n"
          ]
        }
      ],
      "source": [
        "# Display data types of columns in study DataFrame\n",
        "data_types_study = study.dtypes\n",
        "print(\"Data Types in study DataFrame:\")\n",
        "print(data_types_study)\n",
        "\n",
        "\n",
        "\n"
      ]
    },
    {
      "cell_type": "code",
      "execution_count": null,
      "metadata": {
        "colab": {
          "base_uri": "https://localhost:8080/"
        },
        "id": "pEK5j15lqwy6",
        "outputId": "6cce5fdd-d5c6-4577-b4a4-65dd99d72149"
      },
      "outputs": [
        {
          "name": "stdout",
          "output_type": "stream",
          "text": [
            "           year       origin_region                           origin  \\\n",
            "0       2000/01  Africa, Subsaharan  Africa, Subsaharan, Unspecified   \n",
            "1       2000/01  Africa, Subsaharan  Africa, Subsaharan, Unspecified   \n",
            "2       2000/01  Africa, Subsaharan  Africa, Subsaharan, Unspecified   \n",
            "3       2000/01  Africa, Subsaharan  Africa, Subsaharan, Unspecified   \n",
            "4       2000/01  Africa, Subsaharan  Africa, Subsaharan, Unspecified   \n",
            "...         ...                 ...                              ...   \n",
            "877668  2022/23         West Africa         West Africa, Unspecified   \n",
            "877669  2022/23         West Africa         West Africa, Unspecified   \n",
            "877670  2022/23         West Africa         West Africa, Unspecified   \n",
            "877671  2022/23         West Africa         West Africa, Unspecified   \n",
            "877672  2022/23         West Africa         West Africa, Unspecified   \n",
            "\n",
            "        academic_type  students_x                 field_of_study  \\\n",
            "0            Graduate           2                    Agriculture   \n",
            "1            Graduate           2                    Agriculture   \n",
            "2            Graduate           2        Business and Management   \n",
            "3            Graduate           2  Communications and Journalism   \n",
            "4            Graduate           2  Communications and Journalism   \n",
            "...               ...         ...                            ...   \n",
            "877668  Undergraduate           0                Social Sciences   \n",
            "877669  Undergraduate           0                Social Sciences   \n",
            "877670  Undergraduate           0                Social Sciences   \n",
            "877671  Undergraduate           0                Social Sciences   \n",
            "877672  Undergraduate           0                     Undeclared   \n",
            "\n",
            "                                                    major  students_y  \n",
            "0                                             Agriculture      5373.0  \n",
            "1                      Natural Resources and Conservation      1827.0  \n",
            "2                                 Business and Management    105214.0  \n",
            "3                               Communication, Journalism      9958.0  \n",
            "4                 Communications Technologies/Technicians      2261.0  \n",
            "...                                                   ...         ...  \n",
            "877668                                            History      2551.0  \n",
            "877669                                         Psychology     18474.0  \n",
            "877670  Public Administration and Social Service Profe...      8483.0  \n",
            "877671                                    Social Sciences     53998.0  \n",
            "877672                                         Undeclared     17910.0  \n",
            "\n",
            "[877673 rows x 8 columns]\n"
          ]
        }
      ],
      "source": [
        "# Assuming 'year' is the common column\n",
        "merged_data = pd.merge(data, study, on='year')\n",
        "\n",
        "# Display the merged DataFrame\n",
        "print(merged_data)"
      ]
    },
    {
      "cell_type": "code",
      "execution_count": null,
      "metadata": {
        "colab": {
          "base_uri": "https://localhost:8080/"
        },
        "id": "zzo_ysAwr6Rm",
        "outputId": "36466259-9d14-41b8-c495-d148e8c29b0b"
      },
      "outputs": [
        {
          "name": "stdout",
          "output_type": "stream",
          "text": [
            "           year       origin_region                           origin  \\\n",
            "0       2000/01  Africa, Subsaharan  Africa, Subsaharan, Unspecified   \n",
            "1       2000/01  Africa, Subsaharan  Africa, Subsaharan, Unspecified   \n",
            "2       2000/01  Africa, Subsaharan  Africa, Subsaharan, Unspecified   \n",
            "3       2000/01  Africa, Subsaharan  Africa, Subsaharan, Unspecified   \n",
            "4       2000/01  Africa, Subsaharan  Africa, Subsaharan, Unspecified   \n",
            "...         ...                 ...                              ...   \n",
            "877668  2022/23         West Africa         West Africa, Unspecified   \n",
            "877669  2022/23         West Africa         West Africa, Unspecified   \n",
            "877670  2022/23         West Africa         West Africa, Unspecified   \n",
            "877671  2022/23         West Africa         West Africa, Unspecified   \n",
            "877672  2022/23         West Africa         West Africa, Unspecified   \n",
            "\n",
            "        academic_type  total_students                 field_of_study  \\\n",
            "0            Graduate               2                    Agriculture   \n",
            "1            Graduate               2                    Agriculture   \n",
            "2            Graduate               2        Business and Management   \n",
            "3            Graduate               2  Communications and Journalism   \n",
            "4            Graduate               2  Communications and Journalism   \n",
            "...               ...             ...                            ...   \n",
            "877668  Undergraduate               0                Social Sciences   \n",
            "877669  Undergraduate               0                Social Sciences   \n",
            "877670  Undergraduate               0                Social Sciences   \n",
            "877671  Undergraduate               0                Social Sciences   \n",
            "877672  Undergraduate               0                     Undeclared   \n",
            "\n",
            "                                                    major  study_students  \n",
            "0                                             Agriculture          5373.0  \n",
            "1                      Natural Resources and Conservation          1827.0  \n",
            "2                                 Business and Management        105214.0  \n",
            "3                               Communication, Journalism          9958.0  \n",
            "4                 Communications Technologies/Technicians          2261.0  \n",
            "...                                                   ...             ...  \n",
            "877668                                            History          2551.0  \n",
            "877669                                         Psychology         18474.0  \n",
            "877670  Public Administration and Social Service Profe...          8483.0  \n",
            "877671                                    Social Sciences         53998.0  \n",
            "877672                                         Undeclared         17910.0  \n",
            "\n",
            "[877673 rows x 8 columns]\n"
          ]
        }
      ],
      "source": [
        "# Rename the 'students_x' and 'students_y' columns\n",
        "merged_data = merged_data.rename(columns={'students_x': 'total_students', 'students_y': 'study_students'})\n",
        "\n",
        "# Display the updated DataFrame\n",
        "print(merged_data)\n"
      ]
    },
    {
      "cell_type": "code",
      "execution_count": null,
      "metadata": {
        "colab": {
          "base_uri": "https://localhost:8080/"
        },
        "id": "h5ifq_bHsVKn",
        "outputId": "a1476d77-8e31-4ccf-cf86-83f770e6a98d"
      },
      "outputs": [
        {
          "name": "stdout",
          "output_type": "stream",
          "text": [
            "           year       origin_region                           origin  \\\n",
            "0       2000/01  Africa, Subsaharan  Africa, Subsaharan, Unspecified   \n",
            "1       2000/01  Africa, Subsaharan  Africa, Subsaharan, Unspecified   \n",
            "2       2000/01  Africa, Subsaharan  Africa, Subsaharan, Unspecified   \n",
            "3       2000/01  Africa, Subsaharan  Africa, Subsaharan, Unspecified   \n",
            "4       2000/01  Africa, Subsaharan  Africa, Subsaharan, Unspecified   \n",
            "...         ...                 ...                              ...   \n",
            "877668  2022/23         West Africa         West Africa, Unspecified   \n",
            "877669  2022/23         West Africa         West Africa, Unspecified   \n",
            "877670  2022/23         West Africa         West Africa, Unspecified   \n",
            "877671  2022/23         West Africa         West Africa, Unspecified   \n",
            "877672  2022/23         West Africa         West Africa, Unspecified   \n",
            "\n",
            "        academic_type  total_students                 field_of_study  \\\n",
            "0            Graduate               2                    Agriculture   \n",
            "1            Graduate               2                    Agriculture   \n",
            "2            Graduate               2        Business and Management   \n",
            "3            Graduate               2  Communications and Journalism   \n",
            "4            Graduate               2  Communications and Journalism   \n",
            "...               ...             ...                            ...   \n",
            "877668  Undergraduate               0                Social Sciences   \n",
            "877669  Undergraduate               0                Social Sciences   \n",
            "877670  Undergraduate               0                Social Sciences   \n",
            "877671  Undergraduate               0                Social Sciences   \n",
            "877672  Undergraduate               0                     Undeclared   \n",
            "\n",
            "                                                    major  study_students  \n",
            "0                                             Agriculture          5373.0  \n",
            "1                      Natural Resources and Conservation          1827.0  \n",
            "2                                 Business and Management        105214.0  \n",
            "3                               Communication, Journalism          9958.0  \n",
            "4                 Communications Technologies/Technicians          2261.0  \n",
            "...                                                   ...             ...  \n",
            "877668                                            History          2551.0  \n",
            "877669                                         Psychology         18474.0  \n",
            "877670  Public Administration and Social Service Profe...          8483.0  \n",
            "877671                                    Social Sciences         53998.0  \n",
            "877672                                         Undeclared         17910.0  \n",
            "\n",
            "[877673 rows x 8 columns]\n"
          ]
        }
      ],
      "source": [
        "# Remove rows where 'origin' is unspecified\n",
        "merged_data_filtered = merged_data[merged_data['origin'] != 'Unspecified']\n",
        "\n",
        "# Display the updated DataFrame\n",
        "print(merged_data_filtered)\n"
      ]
    },
    {
      "cell_type": "code",
      "execution_count": null,
      "metadata": {
        "colab": {
          "base_uri": "https://localhost:8080/"
        },
        "id": "jAvqwJtKsdyn",
        "outputId": "c48fe3f5-6faa-4139-8159-1f7edf53574b"
      },
      "outputs": [
        {
          "name": "stdout",
          "output_type": "stream",
          "text": [
            "           year       origin_region                           origin  \\\n",
            "0       2000/01  Africa, Subsaharan  Africa, Subsaharan, Unspecified   \n",
            "1       2000/01  Africa, Subsaharan  Africa, Subsaharan, Unspecified   \n",
            "2       2000/01  Africa, Subsaharan  Africa, Subsaharan, Unspecified   \n",
            "3       2000/01  Africa, Subsaharan  Africa, Subsaharan, Unspecified   \n",
            "4       2000/01  Africa, Subsaharan  Africa, Subsaharan, Unspecified   \n",
            "...         ...                 ...                              ...   \n",
            "877668  2022/23         West Africa         West Africa, Unspecified   \n",
            "877669  2022/23         West Africa         West Africa, Unspecified   \n",
            "877670  2022/23         West Africa         West Africa, Unspecified   \n",
            "877671  2022/23         West Africa         West Africa, Unspecified   \n",
            "877672  2022/23         West Africa         West Africa, Unspecified   \n",
            "\n",
            "        academic_type  total_students                 field_of_study  \\\n",
            "0            Graduate               2                    Agriculture   \n",
            "1            Graduate               2                    Agriculture   \n",
            "2            Graduate               2        Business and Management   \n",
            "3            Graduate               2  Communications and Journalism   \n",
            "4            Graduate               2  Communications and Journalism   \n",
            "...               ...             ...                            ...   \n",
            "877668  Undergraduate               0                Social Sciences   \n",
            "877669  Undergraduate               0                Social Sciences   \n",
            "877670  Undergraduate               0                Social Sciences   \n",
            "877671  Undergraduate               0                Social Sciences   \n",
            "877672  Undergraduate               0                     Undeclared   \n",
            "\n",
            "                                                    major  study_students  \n",
            "0                                             Agriculture          5373.0  \n",
            "1                      Natural Resources and Conservation          1827.0  \n",
            "2                                 Business and Management        105214.0  \n",
            "3                               Communication, Journalism          9958.0  \n",
            "4                 Communications Technologies/Technicians          2261.0  \n",
            "...                                                   ...             ...  \n",
            "877668                                            History          2551.0  \n",
            "877669                                         Psychology         18474.0  \n",
            "877670  Public Administration and Social Service Profe...          8483.0  \n",
            "877671                                    Social Sciences         53998.0  \n",
            "877672                                         Undeclared         17910.0  \n",
            "\n",
            "[877673 rows x 8 columns]\n"
          ]
        }
      ],
      "source": [
        "# Remove rows where 'origin' is unspecified in the original DataFrame\n",
        "merged_data.drop(merged_data[merged_data['origin'] == 'Unspecified'].index, inplace=True)\n",
        "\n",
        "# Display the updated DataFrame\n",
        "print(merged_data)\n"
      ]
    },
    {
      "cell_type": "code",
      "execution_count": null,
      "metadata": {
        "colab": {
          "base_uri": "https://localhost:8080/"
        },
        "id": "uQaEgkdBsvu-",
        "outputId": "6813a8a5-453b-4d8e-be40-e66e7882f451"
      },
      "outputs": [
        {
          "name": "stdout",
          "output_type": "stream",
          "text": [
            "           year origin_region                    origin  academic_type  \\\n",
            "129     2000/01          Asia         Asia, Unspecified       Graduate   \n",
            "130     2000/01          Asia         Asia, Unspecified       Graduate   \n",
            "131     2000/01          Asia         Asia, Unspecified       Graduate   \n",
            "132     2000/01          Asia         Asia, Unspecified       Graduate   \n",
            "133     2000/01          Asia         Asia, Unspecified       Graduate   \n",
            "...         ...           ...                       ...            ...   \n",
            "877668  2022/23   West Africa  West Africa, Unspecified  Undergraduate   \n",
            "877669  2022/23   West Africa  West Africa, Unspecified  Undergraduate   \n",
            "877670  2022/23   West Africa  West Africa, Unspecified  Undergraduate   \n",
            "877671  2022/23   West Africa  West Africa, Unspecified  Undergraduate   \n",
            "877672  2022/23   West Africa  West Africa, Unspecified  Undergraduate   \n",
            "\n",
            "        total_students                 field_of_study  \\\n",
            "129                  0                    Agriculture   \n",
            "130                  0                    Agriculture   \n",
            "131                  0        Business and Management   \n",
            "132                  0  Communications and Journalism   \n",
            "133                  0  Communications and Journalism   \n",
            "...                ...                            ...   \n",
            "877668               0                Social Sciences   \n",
            "877669               0                Social Sciences   \n",
            "877670               0                Social Sciences   \n",
            "877671               0                Social Sciences   \n",
            "877672               0                     Undeclared   \n",
            "\n",
            "                                                    major  study_students  \n",
            "129                                           Agriculture          5373.0  \n",
            "130                    Natural Resources and Conservation          1827.0  \n",
            "131                               Business and Management        105214.0  \n",
            "132                             Communication, Journalism          9958.0  \n",
            "133               Communications Technologies/Technicians          2261.0  \n",
            "...                                                   ...             ...  \n",
            "877668                                            History          2551.0  \n",
            "877669                                         Psychology         18474.0  \n",
            "877670  Public Administration and Social Service Profe...          8483.0  \n",
            "877671                                    Social Sciences         53998.0  \n",
            "877672                                         Undeclared         17910.0  \n",
            "\n",
            "[873975 rows x 8 columns]\n"
          ]
        }
      ],
      "source": [
        "# Remove rows where 'origin' is 'Unspecified'\n",
        "merged_data_filtered = merged_data[merged_data['origin'] != 'Africa, Subsaharan, Unspecified']\n",
        "\n",
        "# Display the updated DataFrame\n",
        "print(merged_data_filtered)\n"
      ]
    },
    {
      "cell_type": "code",
      "execution_count": null,
      "metadata": {
        "colab": {
          "base_uri": "https://localhost:8080/"
        },
        "id": "3Al0olyms1Wq",
        "outputId": "320c5105-dc02-41bc-acb0-a012a34fd65b"
      },
      "outputs": [
        {
          "name": "stdout",
          "output_type": "stream",
          "text": [
            "           year origin_region                    origin  academic_type  \\\n",
            "129     2000/01          Asia         Asia, Unspecified       Graduate   \n",
            "130     2000/01          Asia         Asia, Unspecified       Graduate   \n",
            "131     2000/01          Asia         Asia, Unspecified       Graduate   \n",
            "132     2000/01          Asia         Asia, Unspecified       Graduate   \n",
            "133     2000/01          Asia         Asia, Unspecified       Graduate   \n",
            "...         ...           ...                       ...            ...   \n",
            "877668  2022/23   West Africa  West Africa, Unspecified  Undergraduate   \n",
            "877669  2022/23   West Africa  West Africa, Unspecified  Undergraduate   \n",
            "877670  2022/23   West Africa  West Africa, Unspecified  Undergraduate   \n",
            "877671  2022/23   West Africa  West Africa, Unspecified  Undergraduate   \n",
            "877672  2022/23   West Africa  West Africa, Unspecified  Undergraduate   \n",
            "\n",
            "        total_students                 field_of_study  \\\n",
            "129                  0                    Agriculture   \n",
            "130                  0                    Agriculture   \n",
            "131                  0        Business and Management   \n",
            "132                  0  Communications and Journalism   \n",
            "133                  0  Communications and Journalism   \n",
            "...                ...                            ...   \n",
            "877668               0                Social Sciences   \n",
            "877669               0                Social Sciences   \n",
            "877670               0                Social Sciences   \n",
            "877671               0                Social Sciences   \n",
            "877672               0                     Undeclared   \n",
            "\n",
            "                                                    major  study_students  \n",
            "129                                           Agriculture          5373.0  \n",
            "130                    Natural Resources and Conservation          1827.0  \n",
            "131                               Business and Management        105214.0  \n",
            "132                             Communication, Journalism          9958.0  \n",
            "133               Communications Technologies/Technicians          2261.0  \n",
            "...                                                   ...             ...  \n",
            "877668                                            History          2551.0  \n",
            "877669                                         Psychology         18474.0  \n",
            "877670  Public Administration and Social Service Profe...          8483.0  \n",
            "877671                                    Social Sciences         53998.0  \n",
            "877672                                         Undeclared         17910.0  \n",
            "\n",
            "[873975 rows x 8 columns]\n"
          ]
        }
      ],
      "source": [
        "# Remove rows where 'origin' is 'Unspecified' in the original DataFrame\n",
        "merged_data.drop(merged_data[merged_data['origin'] == 'Africa, Subsaharan, Unspecified'].index, inplace=True)\n",
        "\n",
        "# Display the updated DataFrame\n",
        "print(merged_data)\n"
      ]
    },
    {
      "cell_type": "code",
      "execution_count": null,
      "metadata": {
        "id": "f_eW16s4tjyz"
      },
      "outputs": [],
      "source": [
        "# Read the data from the 'origin.csv' file\n",
        "origin_data = pd.read_csv('/origin.csv')"
      ]
    },
    {
      "cell_type": "code",
      "execution_count": null,
      "metadata": {
        "id": "fKtB5MA5toFp"
      },
      "outputs": [],
      "source": [
        "# Assuming 'year' is the common column\n",
        "merged_data = pd.merge(data, study, on='year')"
      ]
    },
    {
      "cell_type": "code",
      "execution_count": null,
      "metadata": {
        "id": "8oqqyEXqtuE7"
      },
      "outputs": [],
      "source": [
        "# Remove rows where 'origin' is 'Unspecified' in the merged DataFrame\n",
        "merged_data_filtered = merged_data[merged_data['origin'] != 'Unspecified']\n"
      ]
    },
    {
      "cell_type": "code",
      "execution_count": null,
      "metadata": {
        "colab": {
          "base_uri": "https://localhost:8080/"
        },
        "id": "AFOHmG89tz1T",
        "outputId": "bb34b4eb-4e54-43bf-b380-21e308894087"
      },
      "outputs": [
        {
          "name": "stdout",
          "output_type": "stream",
          "text": [
            "           year       origin_region                           origin  \\\n",
            "0       2000/01  Africa, Subsaharan  Africa, Subsaharan, Unspecified   \n",
            "1       2000/01  Africa, Subsaharan  Africa, Subsaharan, Unspecified   \n",
            "2       2000/01  Africa, Subsaharan  Africa, Subsaharan, Unspecified   \n",
            "3       2000/01  Africa, Subsaharan  Africa, Subsaharan, Unspecified   \n",
            "4       2000/01  Africa, Subsaharan  Africa, Subsaharan, Unspecified   \n",
            "...         ...                 ...                              ...   \n",
            "877668  2022/23         West Africa         West Africa, Unspecified   \n",
            "877669  2022/23         West Africa         West Africa, Unspecified   \n",
            "877670  2022/23         West Africa         West Africa, Unspecified   \n",
            "877671  2022/23         West Africa         West Africa, Unspecified   \n",
            "877672  2022/23         West Africa         West Africa, Unspecified   \n",
            "\n",
            "        academic_type  students_x                 field_of_study  \\\n",
            "0            Graduate           2                    Agriculture   \n",
            "1            Graduate           2                    Agriculture   \n",
            "2            Graduate           2        Business and Management   \n",
            "3            Graduate           2  Communications and Journalism   \n",
            "4            Graduate           2  Communications and Journalism   \n",
            "...               ...         ...                            ...   \n",
            "877668  Undergraduate           0                Social Sciences   \n",
            "877669  Undergraduate           0                Social Sciences   \n",
            "877670  Undergraduate           0                Social Sciences   \n",
            "877671  Undergraduate           0                Social Sciences   \n",
            "877672  Undergraduate           0                     Undeclared   \n",
            "\n",
            "                                                    major  students_y  \n",
            "0                                             Agriculture      5373.0  \n",
            "1                      Natural Resources and Conservation      1827.0  \n",
            "2                                 Business and Management    105214.0  \n",
            "3                               Communication, Journalism      9958.0  \n",
            "4                 Communications Technologies/Technicians      2261.0  \n",
            "...                                                   ...         ...  \n",
            "877668                                            History      2551.0  \n",
            "877669                                         Psychology     18474.0  \n",
            "877670  Public Administration and Social Service Profe...      8483.0  \n",
            "877671                                    Social Sciences     53998.0  \n",
            "877672                                         Undeclared     17910.0  \n",
            "\n",
            "[877673 rows x 8 columns]\n"
          ]
        }
      ],
      "source": [
        "# Display the updated DataFrame\n",
        "print(merged_data_filtered)"
      ]
    },
    {
      "cell_type": "code",
      "execution_count": null,
      "metadata": {
        "colab": {
          "base_uri": "https://localhost:8080/"
        },
        "id": "7ag33O89uTHa",
        "outputId": "f760051a-b487-4b88-92d5-8c38b8fef484"
      },
      "outputs": [
        {
          "name": "stdout",
          "output_type": "stream",
          "text": [
            "Unique values in the 'origin' column:\n",
            "['Africa, Subsaharan, Unspecified' 'Asia, Unspecified' 'Anguilla'\n",
            " 'Antigua and Barbuda' 'Aruba' 'Bahamas' 'Barbados' 'Bermuda'\n",
            " 'British Virgin Islands' 'Caribbean, Unspecified' 'Cayman Islands' 'Cuba'\n",
            " 'Dominica' 'Dominican Republic' 'Grenada' 'Guadeloupe' 'Haiti' 'Jamaica'\n",
            " 'Martinique' 'Montserrat' 'Netherlands Antilles' 'St. Kitts and Nevis'\n",
            " 'St. Lucia' 'St. Vincent and the Grenadines' 'Trinidad and Tobago'\n",
            " 'Turks and Caicos' 'Cameroon' 'Central Africa, Unspecified'\n",
            " 'Central African Republic' 'Chad' 'Congo, Dem. Rep. of the (Kinshasa)'\n",
            " 'Congo, Republic of the (Brazzaville)' 'Equatorial Guinea' 'Gabon'\n",
            " 'São Tomé and Príncipe' 'Burundi' 'Djibouti' 'East Africa, Unspecified'\n",
            " 'Eritrea' 'Ethiopia' 'Kenya' 'Rwanda' 'Seychelles' 'Somalia' 'Sudan'\n",
            " 'Tanzania' 'Uganda' 'China' 'East Asia, Unspecified' 'Hong Kong' 'Japan'\n",
            " 'Macau' 'Mongolia' 'North Korea' 'South Korea' 'Taiwan' 'Albania'\n",
            " 'Andorra' 'Armenia' 'Austria' 'Azerbaijan' 'Belarus' 'Belgium'\n",
            " 'Bosnia and Herzegovina' 'Bulgaria' 'Croatia' 'Cyprus'\n",
            " 'Czechia/Czech Republic' 'Czechoslovakia, Former' 'Denmark' 'Estonia'\n",
            " 'Europe, Unspecified' 'Finland' 'France' 'Georgia' 'Germany' 'Gibraltar'\n",
            " 'Greece' 'Holy See' 'Hungary' 'Iceland' 'Ireland' 'Italy' 'Kosovo'\n",
            " 'Latvia' 'Liechtenstein' 'Lithuania' 'Luxembourg' 'Malta' 'Moldova'\n",
            " 'Monaco' 'Netherlands' 'North Macedonia' 'Norway' 'Poland' 'Portugal'\n",
            " 'Romania' 'Russia' 'San Marino' 'Serbia and Montenegro' 'Slovakia'\n",
            " 'Slovenia' 'Spain' 'Sweden' 'Switzerland' 'Turkey' 'U.S.S.R., Former'\n",
            " 'Ukraine' 'United Kingdom' 'Yugoslavia, Former'\n",
            " 'Latin America and Caribbean, Unspecified' 'Belize' 'Costa Rica'\n",
            " 'El Salvador' 'Guatemala' 'Honduras' 'Mexico'\n",
            " 'Mexico and Central America, Unspecified' 'Nicaragua' 'Panama' 'Bahrain'\n",
            " 'Iran' 'Iraq' 'Israel' 'Jordan' 'Kuwait' 'Lebanon'\n",
            " 'Middle East, Unspecified' 'Oman' 'Palestinian Territories' 'Qatar'\n",
            " 'Saudi Arabia' 'Syria' 'United Arab Emirates' 'Yemen' 'Algeria' 'Egypt'\n",
            " 'Libya' 'Morocco' 'North Africa, Unspecified' 'Tunisia' 'Western Sahara'\n",
            " 'Canada' 'Australia' 'Cook Islands' 'Fiji' 'French Polynesia' 'Kiribati'\n",
            " 'Marshall Islands, Republic of the' 'Micronesia, Federate States of '\n",
            " 'Nauru' 'New Caledonia' 'New Zealand' 'Niue' 'Norfolk Island'\n",
            " 'Pacific Islands, Unspecified' 'Palau' 'Papua New Guinea' 'Samoa'\n",
            " 'Solomon Islands' 'Tonga' 'Tuvalu' 'Vanuatu' 'Wallis and Futuna'\n",
            " 'Argentina' 'Bolivia' 'Brazil' 'Chile' 'Colombia' 'Ecuador'\n",
            " 'Falkland Islands/Islas Malvinas' 'French Guiana' 'Guyana' 'Paraguay'\n",
            " 'Peru' 'South America, Unspecified' 'Suriname' 'Uruguay' 'Venezuela'\n",
            " 'Afghanistan' 'Bangladesh' 'Bhutan' 'India' 'Kazakhstan' 'Kyrgyzstan'\n",
            " 'Maldives' 'Nepal' 'Pakistan' 'South and Central Asia, Unspecified'\n",
            " 'Sri Lanka' 'Tajikistan' 'Turkmenistan' 'Uzbekistan' 'Brunei'\n",
            " 'Burma/Myanmar' 'Cambodia' 'Indonesia' 'Laos' 'Malaysia' 'Philippines'\n",
            " 'Singapore' 'Southeast Asia, Unspecified' 'Thailand' 'Vietnam' 'Angola'\n",
            " 'Botswana' 'Comoros' 'Eswatini' 'Lesotho' 'Madagascar' 'Malawi'\n",
            " 'Mauritius' 'Mozambique' 'Namibia' 'Reunion' 'South Africa'\n",
            " 'Southern Africa, Unspecified' 'Zambia' 'Zimbabwe' 'Stateless' 'Benin'\n",
            " 'Burkina Faso' 'Cabo Verde' 'Côte d’Ivoire' 'Gambia, The' 'Ghana'\n",
            " 'Guinea' 'GuineaBissau' 'Liberia' 'Mali' 'Mauritania' 'Niger' 'Nigeria'\n",
            " 'Saint Helena' 'Senegal' 'Sierra Leone' 'Togo' 'West Africa, Unspecified'\n",
            " 'TimorLeste' 'Montenegro' 'Serbia' 'Curacao' 'South Sudan' 'Sint Maarten']\n"
          ]
        }
      ],
      "source": [
        "# Assuming 'origin' is the column in the origin_data DataFrame\n",
        "unique_origin_values = origin_data['origin'].unique()\n",
        "print(\"Unique values in the 'origin' column:\")\n",
        "print(unique_origin_values)\n"
      ]
    },
    {
      "cell_type": "code",
      "execution_count": null,
      "metadata": {
        "colab": {
          "base_uri": "https://localhost:8080/"
        },
        "id": "8Fy8AexauX-k",
        "outputId": "2865173a-47db-4881-89c5-c6e72c3abebc"
      },
      "outputs": [
        {
          "name": "stdout",
          "output_type": "stream",
          "text": [
            "           year       origin_region                           origin  \\\n",
            "0       2000/01  Africa, Subsaharan  Africa, Subsaharan, Unspecified   \n",
            "1       2000/01  Africa, Subsaharan  Africa, Subsaharan, Unspecified   \n",
            "2       2000/01  Africa, Subsaharan  Africa, Subsaharan, Unspecified   \n",
            "3       2000/01  Africa, Subsaharan  Africa, Subsaharan, Unspecified   \n",
            "4       2000/01  Africa, Subsaharan  Africa, Subsaharan, Unspecified   \n",
            "...         ...                 ...                              ...   \n",
            "877668  2022/23         West Africa         West Africa, Unspecified   \n",
            "877669  2022/23         West Africa         West Africa, Unspecified   \n",
            "877670  2022/23         West Africa         West Africa, Unspecified   \n",
            "877671  2022/23         West Africa         West Africa, Unspecified   \n",
            "877672  2022/23         West Africa         West Africa, Unspecified   \n",
            "\n",
            "        academic_type  students_x                 field_of_study  \\\n",
            "0            Graduate           2                    Agriculture   \n",
            "1            Graduate           2                    Agriculture   \n",
            "2            Graduate           2        Business and Management   \n",
            "3            Graduate           2  Communications and Journalism   \n",
            "4            Graduate           2  Communications and Journalism   \n",
            "...               ...         ...                            ...   \n",
            "877668  Undergraduate           0                Social Sciences   \n",
            "877669  Undergraduate           0                Social Sciences   \n",
            "877670  Undergraduate           0                Social Sciences   \n",
            "877671  Undergraduate           0                Social Sciences   \n",
            "877672  Undergraduate           0                     Undeclared   \n",
            "\n",
            "                                                    major  students_y  \n",
            "0                                             Agriculture      5373.0  \n",
            "1                      Natural Resources and Conservation      1827.0  \n",
            "2                                 Business and Management    105214.0  \n",
            "3                               Communication, Journalism      9958.0  \n",
            "4                 Communications Technologies/Technicians      2261.0  \n",
            "...                                                   ...         ...  \n",
            "877668                                            History      2551.0  \n",
            "877669                                         Psychology     18474.0  \n",
            "877670  Public Administration and Social Service Profe...      8483.0  \n",
            "877671                                    Social Sciences     53998.0  \n",
            "877672                                         Undeclared     17910.0  \n",
            "\n",
            "[877673 rows x 8 columns]\n"
          ]
        }
      ],
      "source": [
        "# Replace 'Unspecified' with the actual value representing unspecified origin\n",
        "unspecified_value = '...'  # Replace with the actual value\n",
        "\n",
        "# Remove rows where 'origin' is unspecified in the merged DataFrame\n",
        "merged_data_filtered = merged_data[merged_data['origin'] != unspecified_value]\n",
        "\n",
        "# Display the updated DataFrame\n",
        "print(merged_data_filtered)\n"
      ]
    },
    {
      "cell_type": "code",
      "execution_count": null,
      "metadata": {
        "colab": {
          "base_uri": "https://localhost:8080/"
        },
        "id": "HNGJAG0Cuu-_",
        "outputId": "d2d40194-62cd-42c5-b0aa-993f92968763"
      },
      "outputs": [
        {
          "name": "stdout",
          "output_type": "stream",
          "text": [
            "           year origin_region    origin  academic_type  students_x  \\\n",
            "258     2000/01     Caribbean  Anguilla       Graduate           5   \n",
            "259     2000/01     Caribbean  Anguilla       Graduate           5   \n",
            "260     2000/01     Caribbean  Anguilla       Graduate           5   \n",
            "261     2000/01     Caribbean  Anguilla       Graduate           5   \n",
            "262     2000/01     Caribbean  Anguilla       Graduate           5   \n",
            "...         ...           ...       ...            ...         ...   \n",
            "877496  2022/23   West Africa      Togo  Undergraduate          95   \n",
            "877497  2022/23   West Africa      Togo  Undergraduate          95   \n",
            "877498  2022/23   West Africa      Togo  Undergraduate          95   \n",
            "877499  2022/23   West Africa      Togo  Undergraduate          95   \n",
            "877500  2022/23   West Africa      Togo  Undergraduate          95   \n",
            "\n",
            "                       field_of_study  \\\n",
            "258                       Agriculture   \n",
            "259                       Agriculture   \n",
            "260           Business and Management   \n",
            "261     Communications and Journalism   \n",
            "262     Communications and Journalism   \n",
            "...                               ...   \n",
            "877496                Social Sciences   \n",
            "877497                Social Sciences   \n",
            "877498                Social Sciences   \n",
            "877499                Social Sciences   \n",
            "877500                     Undeclared   \n",
            "\n",
            "                                                    major  students_y  \n",
            "258                                           Agriculture      5373.0  \n",
            "259                    Natural Resources and Conservation      1827.0  \n",
            "260                               Business and Management    105214.0  \n",
            "261                             Communication, Journalism      9958.0  \n",
            "262               Communications Technologies/Technicians      2261.0  \n",
            "...                                                   ...         ...  \n",
            "877496                                            History      2551.0  \n",
            "877497                                         Psychology     18474.0  \n",
            "877498  Public Administration and Social Service Profe...      8483.0  \n",
            "877499                                    Social Sciences     53998.0  \n",
            "877500                                         Undeclared     17910.0  \n",
            "\n",
            "[816871 rows x 8 columns]\n"
          ]
        }
      ],
      "source": [
        "# Check if 'Unspecified' is present in the 'origin' column (case-insensitive)\n",
        "merged_data_filtered = merged_data[~merged_data['origin'].str.contains('Unspecified', case=False)]\n",
        "\n",
        "# Display the updated DataFrame\n",
        "print(merged_data_filtered)\n"
      ]
    },
    {
      "cell_type": "code",
      "execution_count": null,
      "metadata": {
        "colab": {
          "base_uri": "https://localhost:8080/"
        },
        "id": "xbATXbj4u0UN",
        "outputId": "e2f7b47d-1938-43b6-94d6-6d9b0492ce9f"
      },
      "outputs": [
        {
          "name": "stdout",
          "output_type": "stream",
          "text": [
            "Unique values in the 'origin' column:\n",
            "['Africa, Subsaharan, Unspecified' 'Asia, Unspecified' 'Anguilla'\n",
            " 'Antigua and Barbuda' 'Aruba' 'Bahamas' 'Barbados' 'Bermuda'\n",
            " 'British Virgin Islands' 'Caribbean, Unspecified' 'Cayman Islands' 'Cuba'\n",
            " 'Dominica' 'Dominican Republic' 'Grenada' 'Guadeloupe' 'Haiti' 'Jamaica'\n",
            " 'Martinique' 'Montserrat' 'Netherlands Antilles' 'St. Kitts and Nevis'\n",
            " 'St. Lucia' 'St. Vincent and the Grenadines' 'Trinidad and Tobago'\n",
            " 'Turks and Caicos' 'Cameroon' 'Central Africa, Unspecified'\n",
            " 'Central African Republic' 'Chad' 'Congo, Dem. Rep. of the (Kinshasa)'\n",
            " 'Congo, Republic of the (Brazzaville)' 'Equatorial Guinea' 'Gabon'\n",
            " 'São Tomé and Príncipe' 'Burundi' 'Djibouti' 'East Africa, Unspecified'\n",
            " 'Eritrea' 'Ethiopia' 'Kenya' 'Rwanda' 'Seychelles' 'Somalia' 'Sudan'\n",
            " 'Tanzania' 'Uganda' 'China' 'East Asia, Unspecified' 'Hong Kong' 'Japan'\n",
            " 'Macau' 'Mongolia' 'North Korea' 'South Korea' 'Taiwan' 'Albania'\n",
            " 'Andorra' 'Armenia' 'Austria' 'Azerbaijan' 'Belarus' 'Belgium'\n",
            " 'Bosnia and Herzegovina' 'Bulgaria' 'Croatia' 'Cyprus'\n",
            " 'Czechia/Czech Republic' 'Czechoslovakia, Former' 'Denmark' 'Estonia'\n",
            " 'Europe, Unspecified' 'Finland' 'France' 'Georgia' 'Germany' 'Gibraltar'\n",
            " 'Greece' 'Holy See' 'Hungary' 'Iceland' 'Ireland' 'Italy' 'Kosovo'\n",
            " 'Latvia' 'Liechtenstein' 'Lithuania' 'Luxembourg' 'Malta' 'Moldova'\n",
            " 'Monaco' 'Netherlands' 'North Macedonia' 'Norway' 'Poland' 'Portugal'\n",
            " 'Romania' 'Russia' 'San Marino' 'Serbia and Montenegro' 'Slovakia'\n",
            " 'Slovenia' 'Spain' 'Sweden' 'Switzerland' 'Turkey' 'U.S.S.R., Former'\n",
            " 'Ukraine' 'United Kingdom' 'Yugoslavia, Former'\n",
            " 'Latin America and Caribbean, Unspecified' 'Belize' 'Costa Rica'\n",
            " 'El Salvador' 'Guatemala' 'Honduras' 'Mexico'\n",
            " 'Mexico and Central America, Unspecified' 'Nicaragua' 'Panama' 'Bahrain'\n",
            " 'Iran' 'Iraq' 'Israel' 'Jordan' 'Kuwait' 'Lebanon'\n",
            " 'Middle East, Unspecified' 'Oman' 'Palestinian Territories' 'Qatar'\n",
            " 'Saudi Arabia' 'Syria' 'United Arab Emirates' 'Yemen' 'Algeria' 'Egypt'\n",
            " 'Libya' 'Morocco' 'North Africa, Unspecified' 'Tunisia' 'Western Sahara'\n",
            " 'Canada' 'Australia' 'Cook Islands' 'Fiji' 'French Polynesia' 'Kiribati'\n",
            " 'Marshall Islands, Republic of the' 'Micronesia, Federate States of '\n",
            " 'Nauru' 'New Caledonia' 'New Zealand' 'Niue' 'Norfolk Island'\n",
            " 'Pacific Islands, Unspecified' 'Palau' 'Papua New Guinea' 'Samoa'\n",
            " 'Solomon Islands' 'Tonga' 'Tuvalu' 'Vanuatu' 'Wallis and Futuna'\n",
            " 'Argentina' 'Bolivia' 'Brazil' 'Chile' 'Colombia' 'Ecuador'\n",
            " 'Falkland Islands/Islas Malvinas' 'French Guiana' 'Guyana' 'Paraguay'\n",
            " 'Peru' 'South America, Unspecified' 'Suriname' 'Uruguay' 'Venezuela'\n",
            " 'Afghanistan' 'Bangladesh' 'Bhutan' 'India' 'Kazakhstan' 'Kyrgyzstan'\n",
            " 'Maldives' 'Nepal' 'Pakistan' 'South and Central Asia, Unspecified'\n",
            " 'Sri Lanka' 'Tajikistan' 'Turkmenistan' 'Uzbekistan' 'Brunei'\n",
            " 'Burma/Myanmar' 'Cambodia' 'Indonesia' 'Laos' 'Malaysia' 'Philippines'\n",
            " 'Singapore' 'Southeast Asia, Unspecified' 'Thailand' 'Vietnam' 'Angola'\n",
            " 'Botswana' 'Comoros' 'Eswatini' 'Lesotho' 'Madagascar' 'Malawi'\n",
            " 'Mauritius' 'Mozambique' 'Namibia' 'Reunion' 'South Africa'\n",
            " 'Southern Africa, Unspecified' 'Zambia' 'Zimbabwe' 'Stateless' 'Benin'\n",
            " 'Burkina Faso' 'Cabo Verde' 'Côte d’Ivoire' 'Gambia, The' 'Ghana'\n",
            " 'Guinea' 'GuineaBissau' 'Liberia' 'Mali' 'Mauritania' 'Niger' 'Nigeria'\n",
            " 'Saint Helena' 'Senegal' 'Sierra Leone' 'Togo' 'West Africa, Unspecified'\n",
            " 'TimorLeste' 'Montenegro' 'Serbia' 'Curacao' 'South Sudan' 'Sint Maarten']\n"
          ]
        }
      ],
      "source": [
        "# Display unique values in the 'origin' column\n",
        "unique_origin_values = merged_data['origin'].unique()\n",
        "print(\"Unique values in the 'origin' column:\")\n",
        "print(unique_origin_values)\n"
      ]
    },
    {
      "cell_type": "code",
      "execution_count": null,
      "metadata": {
        "colab": {
          "base_uri": "https://localhost:8080/"
        },
        "id": "mQvvyQd6vDRO",
        "outputId": "97432586-6d81-498e-918b-dbbe4f63bc86"
      },
      "outputs": [
        {
          "name": "stdout",
          "output_type": "stream",
          "text": [
            "           year       origin_region                           origin  \\\n",
            "0       2000/01  Africa, Subsaharan  Africa, Subsaharan, Unspecified   \n",
            "1       2000/01  Africa, Subsaharan  Africa, Subsaharan, Unspecified   \n",
            "2       2000/01  Africa, Subsaharan  Africa, Subsaharan, Unspecified   \n",
            "3       2000/01  Africa, Subsaharan  Africa, Subsaharan, Unspecified   \n",
            "4       2000/01  Africa, Subsaharan  Africa, Subsaharan, Unspecified   \n",
            "...         ...                 ...                              ...   \n",
            "877668  2022/23         West Africa         West Africa, Unspecified   \n",
            "877669  2022/23         West Africa         West Africa, Unspecified   \n",
            "877670  2022/23         West Africa         West Africa, Unspecified   \n",
            "877671  2022/23         West Africa         West Africa, Unspecified   \n",
            "877672  2022/23         West Africa         West Africa, Unspecified   \n",
            "\n",
            "        academic_type  students_x                 field_of_study  \\\n",
            "0            Graduate           2                    Agriculture   \n",
            "1            Graduate           2                    Agriculture   \n",
            "2            Graduate           2        Business and Management   \n",
            "3            Graduate           2  Communications and Journalism   \n",
            "4            Graduate           2  Communications and Journalism   \n",
            "...               ...         ...                            ...   \n",
            "877668  Undergraduate           0                Social Sciences   \n",
            "877669  Undergraduate           0                Social Sciences   \n",
            "877670  Undergraduate           0                Social Sciences   \n",
            "877671  Undergraduate           0                Social Sciences   \n",
            "877672  Undergraduate           0                     Undeclared   \n",
            "\n",
            "                                                    major  students_y  \n",
            "0                                             Agriculture      5373.0  \n",
            "1                      Natural Resources and Conservation      1827.0  \n",
            "2                                 Business and Management    105214.0  \n",
            "3                               Communication, Journalism      9958.0  \n",
            "4                 Communications Technologies/Technicians      2261.0  \n",
            "...                                                   ...         ...  \n",
            "877668                                            History      2551.0  \n",
            "877669                                         Psychology     18474.0  \n",
            "877670  Public Administration and Social Service Profe...      8483.0  \n",
            "877671                                    Social Sciences     53998.0  \n",
            "877672                                         Undeclared     17910.0  \n",
            "\n",
            "[877673 rows x 8 columns]\n"
          ]
        }
      ],
      "source": [
        "# Assuming 'year' is the common column\n",
        "merged_data = pd.merge(data, study, on='year')\n",
        "\n",
        "# Display the merged DataFrame\n",
        "print(merged_data)\n"
      ]
    },
    {
      "cell_type": "code",
      "execution_count": null,
      "metadata": {
        "colab": {
          "base_uri": "https://localhost:8080/"
        },
        "id": "G_hms5O3vRBT",
        "outputId": "5d8819fa-273d-4886-8963-465af8e62f2e"
      },
      "outputs": [
        {
          "name": "stdout",
          "output_type": "stream",
          "text": [
            "       year       origin_region                           origin  \\\n",
            "0   2000/01  Africa, Subsaharan  Africa, Subsaharan, Unspecified   \n",
            "1   2000/01  Africa, Subsaharan  Africa, Subsaharan, Unspecified   \n",
            "2   2000/01  Africa, Subsaharan  Africa, Subsaharan, Unspecified   \n",
            "3   2000/01  Africa, Subsaharan  Africa, Subsaharan, Unspecified   \n",
            "4   2000/01  Africa, Subsaharan  Africa, Subsaharan, Unspecified   \n",
            "5   2000/01  Africa, Subsaharan  Africa, Subsaharan, Unspecified   \n",
            "6   2000/01  Africa, Subsaharan  Africa, Subsaharan, Unspecified   \n",
            "7   2000/01  Africa, Subsaharan  Africa, Subsaharan, Unspecified   \n",
            "8   2000/01  Africa, Subsaharan  Africa, Subsaharan, Unspecified   \n",
            "9   2000/01  Africa, Subsaharan  Africa, Subsaharan, Unspecified   \n",
            "10  2000/01  Africa, Subsaharan  Africa, Subsaharan, Unspecified   \n",
            "11  2000/01  Africa, Subsaharan  Africa, Subsaharan, Unspecified   \n",
            "12  2000/01  Africa, Subsaharan  Africa, Subsaharan, Unspecified   \n",
            "13  2000/01  Africa, Subsaharan  Africa, Subsaharan, Unspecified   \n",
            "14  2000/01  Africa, Subsaharan  Africa, Subsaharan, Unspecified   \n",
            "15  2000/01  Africa, Subsaharan  Africa, Subsaharan, Unspecified   \n",
            "16  2000/01  Africa, Subsaharan  Africa, Subsaharan, Unspecified   \n",
            "17  2000/01  Africa, Subsaharan  Africa, Subsaharan, Unspecified   \n",
            "18  2000/01  Africa, Subsaharan  Africa, Subsaharan, Unspecified   \n",
            "19  2000/01  Africa, Subsaharan  Africa, Subsaharan, Unspecified   \n",
            "\n",
            "   academic_type  students_x                 field_of_study  \\\n",
            "0       Graduate           2                    Agriculture   \n",
            "1       Graduate           2                    Agriculture   \n",
            "2       Graduate           2        Business and Management   \n",
            "3       Graduate           2  Communications and Journalism   \n",
            "4       Graduate           2  Communications and Journalism   \n",
            "5       Graduate           2                      Education   \n",
            "6       Graduate           2                    Engineering   \n",
            "7       Graduate           2                    Engineering   \n",
            "8       Graduate           2                    Engineering   \n",
            "9       Graduate           2                    Engineering   \n",
            "10      Graduate           2                    Engineering   \n",
            "11      Graduate           2                    Engineering   \n",
            "12      Graduate           2                    Engineering   \n",
            "13      Graduate           2          Fine and Applied Arts   \n",
            "14      Graduate           2          Fine and Applied Arts   \n",
            "15      Graduate           2             Health Professions   \n",
            "16      Graduate           2             Health Professions   \n",
            "17      Graduate           2                     Humanities   \n",
            "18      Graduate           2                     Humanities   \n",
            "19      Graduate           2                     Humanities   \n",
            "\n",
            "                                             major     students_y  \n",
            "0                                      Agriculture    5373.000000  \n",
            "1               Natural Resources and Conservation    1827.000000  \n",
            "2                          Business and Management  105214.000000  \n",
            "3                        Communication, Journalism    9958.000000  \n",
            "4          Communications Technologies/Technicians    2261.000000  \n",
            "5                                        Education   14053.000000  \n",
            "6                              Construction Trades     371.000000  \n",
            "7                                      Engineering   75815.000000  \n",
            "8             Engineering Technologies/Technicians    5630.000000  \n",
            "9     Mechanic and Repair Technologies/Technicians     497.000000  \n",
            "10                           Military Technologies     210.000000  \n",
            "11                            Precision Production     199.000000  \n",
            "12             Transportation and Materials Moving     674.000000  \n",
            "13                                    Architecture    6602.000000  \n",
            "14                      Visual and Performing Arts   27618.000000  \n",
            "15                              Health Professions   22430.000000  \n",
            "16                              Residency Programs   18611.679846  \n",
            "17         English Language and Literature/Letters    5735.000000  \n",
            "18  Foreign Languages, Literatures and Linguistics    4889.000000  \n",
            "19                Philosophy and Religious Studies    1785.000000  \n"
          ]
        }
      ],
      "source": [
        "# Print the first 20 rows of the merged DataFrame\n",
        "print(merged_data.head(20))"
      ]
    }
  ],
  "metadata": {
    "colab": {
      "include_colab_link": true,
      "provenance": []
    },
    "kernelspec": {
      "display_name": "Python 3",
      "name": "python3"
    },
    "language_info": {
      "codemirror_mode": {
        "name": "ipython",
        "version": 3
      },
      "file_extension": ".py",
      "mimetype": "text/x-python",
      "name": "python",
      "nbconvert_exporter": "python",
      "pygments_lexer": "ipython3",
      "version": "3.11.5"
    }
  },
  "nbformat": 4,
  "nbformat_minor": 0
}
